{
 "cells": [
  {
   "cell_type": "code",
   "execution_count": 12,
   "metadata": {},
   "outputs": [],
   "source": [
    "from random import randint\n",
    "class Omar:\n",
    "    def omar_list(self,start_range=10,end_range=50):\n",
    "        lst =[]\n",
    "        for x in range(15):\n",
    "            lst.append(randint(start_range,end_range))\n",
    "        return lst\n",
    "\n",
    "class abo_Omar(Omar):\n",
    "    def abo_omar_list(self,lst=None):\n",
    "        if not lst:\n",
    "            lst=self.omar_list()\n",
    "        lst_with_5=[]\n",
    "        for x in lst:\n",
    "            lst_with_5.append(x+5)\n",
    "        print (\"omar list:{}\".format(lst))\n",
    "        print (\"abo_omar list:{}\".format(lst_with_5))\n",
    "        return lst_with_5\n",
    "    \n",
    "class om_omar(abo_Omar):\n",
    "    def omar_list(self):\n",
    "        return super().omar_list(100,200)\n",
    "    def om_omar_list(self):\n",
    "        lst=self.abo_omar_list(self.omar_list())\n",
    "        print('om_omar list:{}'.format(lst))"
   ]
  },
  {
   "cell_type": "code",
   "execution_count": 13,
   "metadata": {},
   "outputs": [
    {
     "name": "stdout",
     "output_type": "stream",
     "text": [
      "[23, 18, 11, 10, 35, 42, 46, 19, 23, 45, 41, 21, 39, 16, 34]\n"
     ]
    }
   ],
   "source": [
    "x=Omar()\n",
    "print(x.omar_list())"
   ]
  },
  {
   "cell_type": "code",
   "execution_count": 14,
   "metadata": {},
   "outputs": [
    {
     "name": "stdout",
     "output_type": "stream",
     "text": [
      "omar list:[37, 25, 40, 17, 33, 25, 47, 36, 14, 44, 19, 42, 19, 21, 31]\n",
      "abo_omar list:[42, 30, 45, 22, 38, 30, 52, 41, 19, 49, 24, 47, 24, 26, 36]\n"
     ]
    },
    {
     "data": {
      "text/plain": [
       "[42, 30, 45, 22, 38, 30, 52, 41, 19, 49, 24, 47, 24, 26, 36]"
      ]
     },
     "execution_count": 14,
     "metadata": {},
     "output_type": "execute_result"
    }
   ],
   "source": [
    "y=abo_Omar()\n",
    "y.abo_omar_list()"
   ]
  },
  {
   "cell_type": "code",
   "execution_count": 15,
   "metadata": {},
   "outputs": [
    {
     "name": "stdout",
     "output_type": "stream",
     "text": [
      "omar list:[151, 103, 108, 139, 145, 140, 186, 142, 118, 132, 190, 200, 125, 170, 188]\n",
      "abo_omar list:[156, 108, 113, 144, 150, 145, 191, 147, 123, 137, 195, 205, 130, 175, 193]\n",
      "om_omar list:[156, 108, 113, 144, 150, 145, 191, 147, 123, 137, 195, 205, 130, 175, 193]\n"
     ]
    }
   ],
   "source": [
    "z=om_omar()\n",
    "z.om_omar_list()"
   ]
  },
  {
   "cell_type": "code",
   "execution_count": null,
   "metadata": {},
   "outputs": [],
   "source": []
  }
 ],
 "metadata": {
  "kernelspec": {
   "display_name": "Python 3",
   "language": "python",
   "name": "python3"
  },
  "language_info": {
   "codemirror_mode": {
    "name": "ipython",
    "version": 3
   },
   "file_extension": ".py",
   "mimetype": "text/x-python",
   "name": "python",
   "nbconvert_exporter": "python",
   "pygments_lexer": "ipython3",
   "version": "3.8.3"
  }
 },
 "nbformat": 4,
 "nbformat_minor": 4
}
