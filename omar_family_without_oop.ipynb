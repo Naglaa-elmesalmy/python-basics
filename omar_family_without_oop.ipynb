{
 "cells": [
  {
   "cell_type": "code",
   "execution_count": 19,
   "metadata": {},
   "outputs": [
    {
     "name": "stdout",
     "output_type": "stream",
     "text": [
      "Overwriting E:\\test_write_file\\omar_family_without_oop\\omar.py\n"
     ]
    }
   ],
   "source": [
    "%%writefile  E:\\test_write_file\\omar_family_without_oop\\omar.py\n",
    "from random import randint\n",
    "def omar_list(start_range=10,end_range=50):\n",
    "        lst =[]\n",
    "        for x in range(15):\n",
    "            lst.append(randint(start_range,end_range))\n",
    "        return lst"
   ]
  },
  {
   "cell_type": "code",
   "execution_count": 37,
   "metadata": {},
   "outputs": [
    {
     "name": "stdout",
     "output_type": "stream",
     "text": [
      "Overwriting E:\\test_write_file\\omar_family_without_oop\\abo_omar.py\n"
     ]
    }
   ],
   "source": [
    "%%writefile  E:\\test_write_file\\omar_family_without_oop\\abo_omar.py\n",
    "from omar import omar_list\n",
    "def abo_omar_list(lst):\n",
    "    lst_with_5=[]\n",
    "    for x in lst:\n",
    "        lst_with_5.append(x+5)\n",
    "    print (\"omar list :{}\".format(lst))\n",
    "    print (\"abo_omar list:{}\".format(lst_with_5))\n",
    "    return lst_with_5\n",
    "lst_omar=omar_list()\n",
    "abo_omar_list(lst_omar)"
   ]
  },
  {
   "cell_type": "code",
   "execution_count": 38,
   "metadata": {},
   "outputs": [
    {
     "name": "stdout",
     "output_type": "stream",
     "text": [
      "Overwriting E:\\test_write_file\\omar_family_without_oop\\om_omar.py\n"
     ]
    }
   ],
   "source": [
    "%%writefile  E:\\test_write_file\\omar_family_without_oop\\om_omar.py\n",
    "from omar import omar_list\n",
    "from abo_omar import abo_omar_list\n",
    "def om_omar_list():\n",
    "        lst=omar_list(100,200)\n",
    "        om_omar_lst=abo_omar_list(lst)\n",
    "        print('om_omar list:{}'.format(om_omar_lst))\n",
    "\n",
    "om_omar_list()"
   ]
  },
  {
   "cell_type": "code",
   "execution_count": 39,
   "metadata": {},
   "outputs": [
    {
     "name": "stdout",
     "output_type": "stream",
     "text": [
      "omar list :[31, 49, 14, 41, 20, 10, 13, 44, 19, 47, 37, 17, 31, 30, 21]\n",
      "abo_omar list:[36, 54, 19, 46, 25, 15, 18, 49, 24, 52, 42, 22, 36, 35, 26]\n",
      "omar list :[123, 187, 191, 195, 149, 130, 134, 106, 106, 182, 164, 123, 175, 181, 173]\n",
      "abo_omar list:[128, 192, 196, 200, 154, 135, 139, 111, 111, 187, 169, 128, 180, 186, 178]\n",
      "om_omar list:[128, 192, 196, 200, 154, 135, 139, 111, 111, 187, 169, 128, 180, 186, 178]\n"
     ]
    }
   ],
   "source": [
    "! python E:\\test_write_file\\omar_family_without_oop\\om_omar.py"
   ]
  },
  {
   "cell_type": "code",
   "execution_count": null,
   "metadata": {},
   "outputs": [],
   "source": []
  }
 ],
 "metadata": {
  "kernelspec": {
   "display_name": "Python 3",
   "language": "python",
   "name": "python3"
  },
  "language_info": {
   "codemirror_mode": {
    "name": "ipython",
    "version": 3
   },
   "file_extension": ".py",
   "mimetype": "text/x-python",
   "name": "python",
   "nbconvert_exporter": "python",
   "pygments_lexer": "ipython3",
   "version": "3.8.3"
  }
 },
 "nbformat": 4,
 "nbformat_minor": 4
}
