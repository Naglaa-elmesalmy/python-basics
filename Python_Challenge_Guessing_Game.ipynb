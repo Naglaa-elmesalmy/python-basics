{
 "cells": [
  {
   "cell_type": "markdown",
   "metadata": {
    "id": "NQuOyznPahpH"
   },
   "source": [
    "# Guessing Game Challenge\n",
    "\n",
    "Let's use `while` loops to create a guessing game.\n",
    "\n",
    "The Challenge:\n",
    "\n",
    "Write a program that picks a random integer from 1 to 100, and has players guess the number. The rules are:\n",
    "\n",
    "1. If a player's guess is less than 1 or greater than 100, say \"OUT OF BOUNDS\"\n",
    "\n",
    "2. On all turns, if a guess is \n",
    " * closer to the number than the previous guess return \"Closer!\"\n",
    " * farther from the number than the previous guess, return \"Farther!\"\n",
    "3. When the player's guess equals the number, tell them they've guessed correctly *and* how many guesses it took!\n",
    "\n",
    "Now Lets o fro the Steps!"
   ]
  },
  {
   "cell_type": "markdown",
   "metadata": {
    "id": "6K7SSiaEahpK"
   },
   "source": [
    "#### First, Build a Line of Code that can Return arandom integer from 1 to 100 and store this number in object called Actual"
   ]
  },
  {
   "cell_type": "code",
   "execution_count": 4,
   "metadata": {
    "id": "8R7ayXGwahpL"
   },
   "outputs": [],
   "source": [
    "#Type Your Code Here  - Replace None with Correct  Function\n",
    "from random import randint\n",
    "Actual = randint(1,100) "
   ]
  },
  {
   "cell_type": "markdown",
   "metadata": {
    "id": "la65uFUjahpO"
   },
   "source": [
    "#### Next, build a Code to display an introduction to the Game to tell the user the Boundaries from 1 to 100 and what is his target."
   ]
  },
  {
   "cell_type": "code",
   "execution_count": 1,
   "metadata": {
    "id": "cpMGPRNT7F-J"
   },
   "outputs": [
    {
     "name": "stdout",
     "output_type": "stream",
     "text": [
      "***Guessing Game***\n",
      "Hi, you will play with us Guessing Game.\n",
      " You will guess number from 1 and 100.\n",
      " The game will tell you closer ,futher or correct.\n",
      " To stop game enter X.\n",
      " Enjoy !\n"
     ]
    }
   ],
   "source": [
    "#Type Your Code here \n",
    "print(\"***Guessing Game***\\nHi, you will play with us Guessing Game.\\n You will guess number from 1 and 100.\\n The game will tell you closer ,futher or correct.\\n To stop game enter X.\\n Enjoy !\")"
   ]
  },
  {
   "cell_type": "markdown",
   "metadata": {
    "id": "GyW_z6Sf74yG"
   },
   "source": [
    "### Next, Build a Code that takes an integer input from the user "
   ]
  },
  {
   "cell_type": "code",
   "execution_count": 2,
   "metadata": {
    "id": "UZCNvK4o82k-"
   },
   "outputs": [
    {
     "name": "stdout",
     "output_type": "stream",
     "text": [
      "Please,guess number and enter it?5\n"
     ]
    }
   ],
   "source": [
    "#Type Your Code Here - Replace None With Correct Function \n",
    "Guess= input(\"Please,guess number and enter it?\") "
   ]
  },
  {
   "cell_type": "markdown",
   "metadata": {
    "id": "BHsh0slo834l"
   },
   "source": [
    "### Next, Put the Upper Cell in A Loop that keeps checking if the Number is Out of Bounds or Not  "
   ]
  },
  {
   "cell_type": "code",
   "execution_count": 5,
   "metadata": {
    "id": "Xx00D-J89xsk"
   },
   "outputs": [
    {
     "name": "stdout",
     "output_type": "stream",
     "text": [
      "Closer!\n",
      "Please,guess number and enter it?7\n",
      "Closer!\n",
      "Please,guess number and enter it?1\n",
      "Farther!\n",
      "Please,guess number and enter it?X\n"
     ]
    }
   ],
   "source": [
    "#Replace None Values with correct conditions or Booleans\n",
    "count_guesses=0\n",
    "prov_guess=0\n",
    "while(Guess !='X'):\n",
    "  # Take input from user\n",
    "  count_guesses+=1\n",
    "  if  0<int(Guess) and int(Guess)<101:\n",
    "   # if right then print something\n",
    "    if int(Guess)==Actual:\n",
    "        print (\"Wow, you've guessed Correctly this time\") #Fix \n",
    "        print('You have guessed it in {} times'.format(count_guesses)) # Put function that calculate the Real Number of Guesses \n",
    "        break;\n",
    "    elif abs(Actual-prov_guess)<abs(Actual-int(Guess)):\n",
    "        print ('Farther!')\n",
    "    else:\n",
    "        print ('Closer!')\n",
    "    prov_guess= int(Guess)   \n",
    "  else:\n",
    "  #and if not print another thing \n",
    "    print(\"OUT OF BOUNDS\")\n",
    "  Guess= input(\"Please,guess number and enter it?\") \n",
    "print(\"good bye\") "
   ]
  },
  {
   "cell_type": "markdown",
   "metadata": {
    "id": "d-USlvx8dNak"
   },
   "source": [
    "### Next, Build a Code that Check if the Guess is equal to the Actual Random Number"
   ]
  },
  {
   "cell_type": "code",
   "execution_count": null,
   "metadata": {
    "id": "E95mJnFNdfiW"
   },
   "outputs": [],
   "source": [
    "guesses= None #Make it an Empty List \n",
    "#Change None to Correct Boolean between\n",
    "if  None :\n",
    "  print ('Wow, you've guessed Correctly this time') #Fix \n",
    "  'You have guessed it in {} times'.format(None) # Put function that calculate the Real Number of Guesses "
   ]
  },
  {
   "cell_type": "markdown",
   "metadata": {
    "id": "VWNf49z6WVek"
   },
   "source": [
    "### Next, Build a Code that Check on Each Guess whether its closer than the Previous Guess or not."
   ]
  },
  {
   "cell_type": "code",
   "execution_count": null,
   "metadata": {
    "id": "O7McDw6pbVfX"
   },
   "outputs": [],
   "source": [
    "\n",
    "while(None):\n",
    "  if  None :\n",
    "    print(' you are closer to target ')\n",
    "  print(' you are far from the target ')\n",
    "\n"
   ]
  },
  {
   "cell_type": "markdown",
   "metadata": {
    "id": "v-wMuTZLahpY"
   },
   "source": [
    "#### Write a `while` loop that compares the player's guess to our number. If the player guesses correctly, break from the loop. Otherwise, tell the player if they're Closer or Farer , and continue asking for guesses.\n",
    "\n",
    "**Try to Collect All the cells you 've made above and use it here**\n",
    "\n",
    "Hint:\n",
    "\n",
    "\n",
    "* you can use the `abs()` function to find the positive difference between two numbers\n",
    "\n",
    "\n",
    "# Decomposition \n",
    "\n",
    "*   Choosing Random Number\n",
    "*   Game Intro for the User\n",
    "*   Checking on the Inserted Guess if its in boundary or not\n",
    "*   Checking on the Inserted Guess if its equal to the Random Number or Not\n",
    "*   Checking on the Inserted Guess if its Far or Close from the Previous Guess.\n",
    "\n",
    "\n",
    "\n"
   ]
  },
  {
   "cell_type": "code",
   "execution_count": 1,
   "metadata": {
    "id": "FaifUKKUahpZ"
   },
   "outputs": [
    {
     "name": "stdout",
     "output_type": "stream",
     "text": [
      "***Guessing Game***\n",
      "Hi, you will play with us Guessing Game.\n",
      " You will guess number from 1 and 100.\n",
      " The game will tell you closer ,futher or correct.\n",
      " To stop game enter X.\n",
      " Enjoy !\n",
      "Please,guess number and enter it?8\n",
      "Closer!\n",
      "Please,guess number and enter it?40\n",
      "Closer!\n",
      "Please,guess number and enter it?102\n",
      "OUT OF BOUNDS\n",
      "Please,guess number and enter it?7\n",
      "Farther!\n",
      "Please,guess number and enter it?X\n",
      "the guess number is 49\n",
      "good bye\n"
     ]
    }
   ],
   "source": [
    "# Type your Final Code here\n",
    "from random import randint\n",
    "Actual = randint(1,100)\n",
    "#Type Your Code here \n",
    "print(\"***Guessing Game***\\nHi, you will play with us Guessing Game.\\n You will guess number from 1 and 100.\\n The game will tell you closer ,futher or correct.\\n To stop game enter X.\\n Enjoy !\")\n",
    "#Type Your Code Here - Replace None With Correct Function \n",
    "Guess= input(\"Please,guess number and enter it?\") \n",
    "#Replace None Values with correct conditions or Booleans\n",
    "count_guesses=0\n",
    "prov_guess=0\n",
    "while(Guess !='X'):\n",
    "    # Take input from user\n",
    "    count_guesses+=1\n",
    "    if  0<int(Guess) and int(Guess)<101:\n",
    "   # if right then print something\n",
    "        if int(Guess)==Actual:\n",
    "            print (\"Wow, you've guessed Correctly this time\") #Fix \n",
    "            print('You have guessed it in {} times'.format(count_guesses)) # Put function that calculate the Real Number of Guesses \n",
    "            break;\n",
    "        elif abs(Actual-prov_guess)<abs(Actual-int(Guess)):\n",
    "            print ('Farther!')\n",
    "        else:\n",
    "            print ('Closer!')\n",
    "        prov_guess= int(Guess)   \n",
    "    else:\n",
    "        #and if not print another thing \n",
    "        print(\"OUT OF BOUNDS\")\n",
    "    Guess= input(\"Please,guess number and enter it?\")\n",
    "print(\"the guess number is {}\".format(Actual))\n",
    "print(\"good bye\") "
   ]
  },
  {
   "cell_type": "code",
   "execution_count": null,
   "metadata": {
    "id": "3WmFudWAl7gi"
   },
   "outputs": [],
   "source": [
    "# Type here the Big Loop\n",
    "while None :\n",
    "  continue "
   ]
  },
  {
   "cell_type": "markdown",
   "metadata": {
    "id": "5UZ7l5wEahpb"
   },
   "source": [
    "That's it! You've just programmed your first game!\n",
    "\n",
    "In the next section we'll learn how to turn some of these repetitive actions into *functions* that can be called whenever we need them."
   ]
  },
  {
   "cell_type": "markdown",
   "metadata": {
    "id": "HlHfgyZ9ahpc"
   },
   "source": [
    "### Good Job!"
   ]
  }
 ],
 "metadata": {
  "colab": {
   "name": "Python Challenge Guessing Game.ipynb",
   "provenance": []
  },
  "kernelspec": {
   "display_name": "Python 3",
   "language": "python",
   "name": "python3"
  },
  "language_info": {
   "codemirror_mode": {
    "name": "ipython",
    "version": 3
   },
   "file_extension": ".py",
   "mimetype": "text/x-python",
   "name": "python",
   "nbconvert_exporter": "python",
   "pygments_lexer": "ipython3",
   "version": "3.8.3"
  }
 },
 "nbformat": 4,
 "nbformat_minor": 1
}
