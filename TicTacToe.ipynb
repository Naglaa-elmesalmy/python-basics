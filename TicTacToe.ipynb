{
 "cells": [
  {
   "cell_type": "markdown",
   "metadata": {
    "id": "aAjb_hDyTKQh"
   },
   "source": [
    "# Tic Tac Toe Game \n",
    "##### Scratch Building\n",
    "##### No GUI Required "
   ]
  },
  {
   "cell_type": "markdown",
   "metadata": {
    "id": "NG1KZg4sTKQj"
   },
   "source": [
    "#### Some suggested tools before you get started:\n",
    "To take input from a user:\n",
    "\n",
    "    player1 = input(\"Please pick a marker 'X' or 'O'\")\n",
    "    \n",
    "Note that input() takes in a string. If you need an integer value, use\n",
    "\n",
    "    position = int(input('Please enter a number'))\n",
    "    \n",
    "<br>To clear the screen between moves:\n",
    "\n",
    "    from IPython.display import clear_output\n",
    "    clear_output()\n",
    "    \n",
    "Note that clear_output() will only work in jupyter. To clear the screen in other IDEs, consider:\n",
    "\n",
    "    print('\\n'*100)\n",
    "    \n",
    "This scrolls the previous board up out of view. Now on to the program!"
   ]
  },
  {
   "cell_type": "markdown",
   "metadata": {
    "id": "eq31aKoKTKQk"
   },
   "source": [
    "**Step 1: Write a function that can print out a board. Set up your board as a list, where each index 1-9 corresponds with a number on a number pad, so you get a 3 by 3 board representation.**"
   ]
  },
  {
   "cell_type": "code",
   "execution_count": 9,
   "metadata": {
    "id": "v6oZEXZXTKQl"
   },
   "outputs": [],
   "source": [
    "from IPython.display import clear_output\n",
    "\n",
    "def display_board(board):\n",
    "    print('=================')\n",
    "    print ('||',board[0],'||',board[1],'||',board[2],'||')\n",
    "    print('=================')\n",
    "    print ('||',board[3],'||',board[4],'||',board[5],'||')\n",
    "    print('=================')\n",
    "    print ('||',board[6],'||',board[7],'||',board[8],'||')\n",
    "    print('=================')"
   ]
  },
  {
   "cell_type": "markdown",
   "metadata": {
    "id": "YE-nz_ETTKQo"
   },
   "source": [
    "**TEST Step 1:** run your function on a test version of the board list, and make adjustments as necessary"
   ]
  },
  {
   "cell_type": "code",
   "execution_count": null,
   "metadata": {
    "colab": {
     "base_uri": "https://localhost:8080/",
     "height": 121
    },
    "id": "4iQ9D-u5TKQp",
    "outputId": "59ff7cb4-7211-4d99-f8bf-2ca4167db697"
   },
   "outputs": [],
   "source": [
    "test_board = ['X','0','X','0','X','0','X','0','X']\n",
    "play_board= [' ',' ',' ',' ',' ',' ',' ',' ',' ']\n",
    "display_board(play_board)"
   ]
  },
  {
   "cell_type": "markdown",
   "metadata": {
    "id": "WxeUw0FhTKQr"
   },
   "source": [
    "**Step 2: Write a function that can take in a player input and assign their marker as 'X' or 'O'. Think about using *while* loops to continually ask until you get a correct answer.**"
   ]
  },
  {
   "cell_type": "code",
   "execution_count": 5,
   "metadata": {
    "id": "MG0XC4aXTKQs"
   },
   "outputs": [],
   "source": [
    "def player_input():\n",
    "    player_mark = input(\"Please pick a marker 'X' or 'O'\")\n",
    "    while True:\n",
    "        try:\n",
    "            player_mark=player_mark.upper()\n",
    "        except:\n",
    "            print(\"You didn't enter X or O\")\n",
    "            player_mark = input(\"Please pick a marker 'X' or 'O'\")\n",
    "            continue\n",
    "        else:\n",
    "            if player_mark=='X' or player_mark=='O':\n",
    "                break\n",
    "            else:\n",
    "                print(\"You didn't enter X or O\")\n",
    "                player_mark = input(\"Please pick a marker 'X' or 'O'\")\n",
    "            \n",
    "    return player_mark\n",
    "        \n",
    "            \n",
    "            "
   ]
  },
  {
   "cell_type": "markdown",
   "metadata": {
    "id": "6fVimbgzTKQu"
   },
   "source": [
    "**TEST Step 2:** run the function to make sure it returns the desired output"
   ]
  },
  {
   "cell_type": "code",
   "execution_count": null,
   "metadata": {
    "id": "PJSO5QX1TKQu"
   },
   "outputs": [],
   "source": [
    "player_input()"
   ]
  },
  {
   "cell_type": "markdown",
   "metadata": {
    "id": "aQN1q9gGTKQw"
   },
   "source": [
    "**Step 3: Write a function that takes in the board list object, a marker ('X' or 'O'), and a desired position (number 1-9) and assigns it to the board.**"
   ]
  },
  {
   "cell_type": "code",
   "execution_count": 13,
   "metadata": {
    "id": "drK45WDaTKQx"
   },
   "outputs": [],
   "source": [
    "def place_marker(board, marker, position):\n",
    "    if 0<position<10:\n",
    "        board[position-1]=marker\n",
    "        return True\n",
    "    else:\n",
    "        print('enter position between 1 to 9')\n",
    "        return False"
   ]
  },
  {
   "cell_type": "markdown",
   "metadata": {
    "id": "gapk660ATKQz"
   },
   "source": [
    "**TEST Step 3:** run the place marker function using test parameters and display the modified board"
   ]
  },
  {
   "cell_type": "code",
   "execution_count": 14,
   "metadata": {
    "id": "4vIDyBjrTKQ0"
   },
   "outputs": [
    {
     "name": "stdout",
     "output_type": "stream",
     "text": [
      "=================\n",
      "|| X || 0 || X ||\n",
      "=================\n",
      "|| 0 || X || 0 ||\n",
      "=================\n",
      "|| X || $ || X ||\n",
      "=================\n"
     ]
    }
   ],
   "source": [
    "place_marker(test_board,'$',8)\n",
    "display_board(test_board)"
   ]
  },
  {
   "cell_type": "markdown",
   "metadata": {
    "id": "vRuvrYsVTKQ2"
   },
   "source": [
    "**Step 4: Write a function that takes in a board and a mark (X or O) and then checks to see if that mark has won. **"
   ]
  },
  {
   "cell_type": "code",
   "execution_count": 17,
   "metadata": {
    "id": "Zl_L_t1xTKQ2"
   },
   "outputs": [],
   "source": [
    "def win_check(board, mark):\n",
    "    if (board[0]==mark and board[1]==mark and board[2]==mark)or(board[3]==mark and board[4]==mark and board[5]==mark)or(board[6]==mark and board[7]==mark and board[8]==mark)or(board[0]==mark and board[3]==mark and board[6]==mark)or(board[1]==mark and board[4]==mark and board[7]==mark)or(board[2]==mark and board[5]==mark and board[8]==mark)or(board[0]==mark and board[4]==mark and board[8]==mark)or(board[2]==mark and board[4]==mark and board[6]==mark):\n",
    "            print (\"Congratulations,Player \"+mark+\" is win!\")\n",
    "            return True"
   ]
  },
  {
   "cell_type": "markdown",
   "metadata": {
    "id": "D9tY6vCHTKQ4"
   },
   "source": [
    "**TEST Step 4:** run the win_check function against our test_board - it should return True"
   ]
  },
  {
   "cell_type": "code",
   "execution_count": 18,
   "metadata": {
    "id": "W_rBIIOCTKQ5"
   },
   "outputs": [
    {
     "name": "stdout",
     "output_type": "stream",
     "text": [
      "Congratulations,Player X is win!\n"
     ]
    },
    {
     "data": {
      "text/plain": [
       "True"
      ]
     },
     "execution_count": 18,
     "metadata": {},
     "output_type": "execute_result"
    }
   ],
   "source": [
    "win_check(test_board,'X')"
   ]
  },
  {
   "cell_type": "markdown",
   "metadata": {
    "id": "ROj56ItpTKQ7"
   },
   "source": [
    "**Step 5: Write a function that uses the random module to randomly decide which player goes first. You may want to lookup random.randint() Return a string of which player went first.**"
   ]
  },
  {
   "cell_type": "code",
   "execution_count": 7,
   "metadata": {
    "id": "i0rtv4b3TKQ-"
   },
   "outputs": [],
   "source": [
    "from random import randint\n",
    "\n",
    "def choose_first():\n",
    "    x =randint(0,1)\n",
    "    if x==0:\n",
    "        print (\"You will start playing\")\n",
    "    else:\n",
    "        print (\"Computer will start playing\")\n",
    "    return x"
   ]
  },
  {
   "cell_type": "markdown",
   "metadata": {
    "id": "ROj56ItpTKQ7"
   },
   "source": [
    "**Step 6: Write a function that returns a boolean indicating whether a space on the board is freely available.**"
   ]
  },
  {
   "cell_type": "code",
   "execution_count": 4,
   "metadata": {
    "id": "i0rtv4b3TKQ-"
   },
   "outputs": [],
   "source": [
    "def space_check(board,marker, position):\n",
    "        if board[position-1]==' ':\n",
    "            return place_marker(board, marker, position)\n",
    "        else:\n",
    "            return False\n",
    "            "
   ]
  },
  {
   "cell_type": "markdown",
   "metadata": {
    "id": "TKfVJE_KTKRA"
   },
   "source": [
    "**Step 7: Write a function that checks if the board is full and returns a boolean value. True if full, False otherwise.**"
   ]
  },
  {
   "cell_type": "code",
   "execution_count": null,
   "metadata": {
    "id": "Vsa0TroYTKRB"
   },
   "outputs": [],
   "source": [
    "def full_board_check(board):\n",
    "    \n",
    "    pass"
   ]
  },
  {
   "cell_type": "markdown",
   "metadata": {
    "id": "ju-R3rRATKRD"
   },
   "source": [
    "**Step 8: Write a function that asks for a player's next position (as a number 1-9) and then uses the function from step 6 to check if it's a free position. If it is, then return the position for later use.**"
   ]
  },
  {
   "cell_type": "code",
   "execution_count": null,
   "metadata": {
    "id": "zLusZVZETKRE"
   },
   "outputs": [],
   "source": [
    "# def player_choice(board,marker):\n",
    "#     player_input=input(\"PLease the postion of the next move\")\n",
    "#     while not(player_input=='Exist' or space_check(board,marker,int(player_input))):\n",
    "#         print(\"you choose busy position\")\n",
    "#         player_input=input(\"PLease the postion of the next move\")\n",
    "def player_choice(board,marker):\n",
    "    global Play_Again\n",
    "    player_input=input(\"PLease the postion of the next move\")\n",
    "    while True:\n",
    "        try:\n",
    "            while not(player_input=='Exist' or space_check(board,marker,int(player_input))):\n",
    "                print(\"you choose busy position\")\n",
    "                player_input=input(\"PLease the postion of the next move\")\n",
    "        except:\n",
    "            print(\"You enter character.please enter enteger or Exist\")\n",
    "            player_input=input(\"PLease the postion of the next move\")\n",
    "        \n",
    "    if player_input=='Exist':\n",
    "        Play_Again=False       \n",
    "    "
   ]
  },
  {
   "cell_type": "markdown",
   "metadata": {
    "id": "E9ryWxTdTKRG"
   },
   "source": [
    "**Step 9: Write a function that asks the player if they want to play again and returns a boolean True if they do want to play again.**"
   ]
  },
  {
   "cell_type": "code",
   "execution_count": 1,
   "metadata": {
    "id": "1_Nt3ngsTKRG"
   },
   "outputs": [
    {
     "name": "stdout",
     "output_type": "stream",
     "text": [
      "if you want to play again,Enter 'Again'.Otherwise Enter 'Exist'Exist\n",
      "Bye Bye\n"
     ]
    },
    {
     "data": {
      "text/plain": [
       "False"
      ]
     },
     "execution_count": 1,
     "metadata": {},
     "output_type": "execute_result"
    }
   ],
   "source": [
    "def replay():\n",
    "    global Play_again\n",
    "    again=input(\"if you want to play again,Enter 'Again'.Otherwise Enter 'Exist'\")\n",
    "    if again=='Exist':\n",
    "        Play_again=False\n",
    "        print (\"Bye Bye\")\n",
    "        return False\n",
    "    else:\n",
    "        return True\n",
    "\n",
    "replay()"
   ]
  },
  {
   "cell_type": "code",
   "execution_count": 1,
   "metadata": {},
   "outputs": [
    {
     "data": {
      "text/plain": [
       "[' ', '0', 'X', '0', 'X', '0', 'X', '0', 'X']"
      ]
     },
     "execution_count": 1,
     "metadata": {},
     "output_type": "execute_result"
    }
   ],
   "source": [
    "from random import randint\n",
    "\n",
    "def computer_think(board,mark):\n",
    "    if board[0]==' ' and ((board[1]==mark and board[2]==mark) or (board[4]==mark and board[8]==mark)or (board[3]==mark and board[6]==mark)):\n",
    "        board[0]==mark\n",
    "    elif board[1]==' ' and ((board[0]==mark and board[2]==mark) or (board[4]==mark and board[7]==mark)):\n",
    "         board[1]==mark\n",
    "    elif board[2]==' ' and ((board[1]==mark and board[0]==mark) or (board[4]==mark and board[6]==mark)or (board[5]==mark and board[8]==mark)):\n",
    "         board[2]==mark\n",
    "    elif board[3]==' ' and ((board[0]==mark and board[6]==mark) or (board[4]==mark and board[5]==mark)):\n",
    "         board[3]==mark\n",
    "    elif board[4]==' ' and ((board[1]==mark and board[7]==mark) or (board[3]==mark and board[5]==mark)or (board[0]==mark and board[8]==mark)or (board[2]==mark and board[6]==mark)):\n",
    "         board[4]==mark\n",
    "    elif board[5]==' ' and ((board[2]==mark and board[8]==mark) or (board[4]==mark and board[3]==mark)):\n",
    "        board[5]==mark\n",
    "    elif board[6]==' ' and ((board[7]==mark and board[8]==mark) or (board[4]==mark and board[2]==mark)or (board[3]==mark and board[0]==mark)):\n",
    "         board[6]==mark\n",
    "    elif board[7]==' ' and ((board[6]==mark and board[8]==mark) or (board[4]==mark and board[1]==mark)):\n",
    "         board[1]==mark\n",
    "    elif board[8]==' ' and ((board[7]==mark and board[6]==mark) or (board[4]==mark and board[0]==mark)or (board[5]==mark and board[2]==mark)):\n",
    "         board[8]==mark\n",
    "    else:\n",
    "        comp_input=randint(1,9)\n",
    "        while not(space_check(board,mark,int(comp_input))):\n",
    "            comp_input=randint(1,9)\n",
    "            \n",
    "test_board = [' ','0','X','0','X','0','X','0','X']\n",
    "computer_think(test_board,'X')\n",
    "test_board"
   ]
  },
  {
   "cell_type": "markdown",
   "metadata": {
    "collapsed": true,
    "id": "gjLdHz0MTKRI"
   },
   "source": [
    "**Step 10: Here comes the hard part! Use while loops and the functions you've made to run the game!**"
   ]
  },
  {
   "cell_type": "code",
   "execution_count": null,
   "metadata": {
    "id": "84vKO9k9TKRJ"
   },
   "outputs": [
    {
     "name": "stdout",
     "output_type": "stream",
     "text": [
      "Welcome to Tic Tac Toe!\n",
      "=================\n",
      "|| X || O || X ||\n",
      "=================\n",
      "|| O || X || O ||\n",
      "=================\n",
      "|| X || O || X ||\n",
      "=================\n",
      "PLease,Enter the position of the movements as the following:\n",
      "=================\n",
      "|| 1 || 2 || 3 ||\n",
      "=================\n",
      "|| 4 || 5 || 6 ||\n",
      "=================\n",
      "|| 7 || 8 || 9 ||\n",
      "=================\n",
      "Please pick a marker 'X' or 'O'X\n",
      "Computer will start playing\n",
      "=================\n",
      "||   ||   ||   ||\n",
      "=================\n",
      "||   ||   ||   ||\n",
      "=================\n",
      "||   || O ||   ||\n",
      "=================\n",
      "PLease the postion of the next move9\n",
      "you choose busy position\n",
      "PLease the postion of the next move7\n",
      "you choose busy position\n"
     ]
    }
   ],
   "source": [
    "from IPython.display import clear_output\n",
    "from random import randint\n",
    "\n",
    "# to play again \n",
    "Play_Again=True\n",
    "# function to display board\n",
    "def display_board(board):\n",
    "    print('=================')\n",
    "    print ('||',board[0],'||',board[1],'||',board[2],'||')\n",
    "    print('=================')\n",
    "    print ('||',board[3],'||',board[4],'||',board[5],'||')\n",
    "    print('=================')\n",
    "    print ('||',board[6],'||',board[7],'||',board[8],'||')\n",
    "    print('=================')\n",
    "\n",
    "#choose the first player\n",
    "def choose_first():\n",
    "    x =randint(0,1)\n",
    "    if x==0:\n",
    "        print (\"You will start playing\")\n",
    "    else:\n",
    "        print (\"Computer will start playing\")\n",
    "        return x\n",
    "    \n",
    "#set the postion of each movement\n",
    "def place_marker(board, marker, position):\n",
    "    if 0<position<10:\n",
    "        board[position-1]=marker\n",
    "        return True\n",
    "    else:\n",
    "        print('enter position between 1 to 9')\n",
    "        return False\n",
    "\n",
    "#check if position is empty\n",
    "def space_check(board,marker, position):\n",
    "        if board[position-1]==' ':\n",
    "            return place_marker(board, marker, position)\n",
    "        else:\n",
    "            return False\n",
    "#take the next movement from player   \n",
    "def player_choice(board,marker):\n",
    "    global Play_Again\n",
    "    player_input=input(\"PLease the postion of the next move\")\n",
    "    while True:\n",
    "        try:\n",
    "            while not(player_input=='Exist' or space_check(board,marker,int(player_input))):\n",
    "                print(\"you choose busy position\")\n",
    "                player_input=input(\"PLease the postion of the next move\")\n",
    "        except:\n",
    "            print(\"You enter character.please enter enteger or Exist\")\n",
    "            player_input=input(\"PLease the postion of the next move\")\n",
    "        \n",
    "    if player_input=='Exist':\n",
    "        Play_Again=False\n",
    "        \n",
    "#check if the player wins        \n",
    "def win_check(board, mark,player_name):\n",
    "    if (board[0]==mark and board[1]==mark and board[2]==mark)or(board[3]==mark and board[4]==mark and board[5]==mark)or(board[6]==mark and board[7]==mark and board[8]==mark)or(board[0]==mark and board[3]==mark and board[6]==mark)or(board[1]==mark and board[4]==mark and board[7]==mark)or(board[2]==mark and board[5]==mark and board[8]==mark)or(board[0]==mark and board[4]==mark and board[8]==mark)or(board[2]==mark and board[4]==mark and board[6]==mark):\n",
    "            if player_name==\"You\":\n",
    "                print (\"Congratulations,You win!\")\n",
    "            else:\n",
    "                print (\"Game over\")\n",
    "            return True \n",
    "#ask to play again \n",
    "def replay():\n",
    "    global Play_again\n",
    "    again=input(\"if you want to play again,Enter 'Again'.Otherwise Enter 'Exist'\")\n",
    "    if again=='Exist':\n",
    "        Play_again=False\n",
    "        print (\"Bye Bye\")\n",
    "        return False\n",
    "    else:\n",
    "        return True\n",
    "#to set letter of play\n",
    "def player_input():\n",
    "    player_mark = input(\"Please pick a marker 'X' or 'O'\")\n",
    "    while True:\n",
    "        try:\n",
    "            player_mark=player_mark.upper()\n",
    "        except:\n",
    "            print(\"You didn't enter X or O\")\n",
    "            player_mark = input(\"Please pick a marker 'X' or 'O'\")\n",
    "            continue\n",
    "        else:\n",
    "            if player_mark=='X' or player_mark=='O':\n",
    "                break\n",
    "            else:\n",
    "                print(\"You didn't enter X or O\")\n",
    "                player_mark = input(\"Please pick a marker 'X' or 'O'\")\n",
    "            \n",
    "    return player_mark\n",
    "#begin to play    \n",
    "print('Welcome to Tic Tac Toe!')\n",
    "test_board = ['X','O','X','O','X','O','X','O','X']\n",
    "display_board(test_board)\n",
    "print(\"PLease,Enter the position of the movements as the following:\")\n",
    "test_board = ['1','2','3','4','5','6','7','8','9']\n",
    "display_board(test_board)\n",
    "player1 = player_input()\n",
    "comp_player=None\n",
    "if player1=='X':\n",
    "    comp_player='O'\n",
    "else:\n",
    "    comp_player='X'\n",
    "play_board= [' ',' ',' ',' ',' ',' ',' ',' ',' '] \n",
    "player_choose=choose_first()\n",
    "is_player=0\n",
    "\n",
    "while Play_Again:\n",
    "    for i in enumerate(test_board):\n",
    "        if is_player==player_choose:\n",
    "            player_choose=1\n",
    "            player_choice(play_board,player1)\n",
    "            if(Play_Again==False):\n",
    "                break\n",
    "            display_board(play_board)\n",
    "            if win_check(play_board,player1,\"You\"):\n",
    "                Play_Again=False\n",
    "                break\n",
    "        else:\n",
    "            player_choose=0\n",
    "            comp_input=randint(1,9)\n",
    "            while not(space_check(play_board,comp_player,int(comp_input))):\n",
    "                comp_input=randint(1,9)\n",
    "            display_board(play_board)\n",
    "            if win_check(play_board,comp_player,\"Computer\"):\n",
    "                Play_Again=False\n",
    "                break\n",
    "    if not replay():\n",
    "        break\n",
    "    clear_output()   \n",
    "\n"
   ]
  },
  {
   "cell_type": "markdown",
   "metadata": {
    "collapsed": true,
    "id": "V3AlA00FTKRL"
   },
   "source": [
    "## Good Job!"
   ]
  }
 ],
 "metadata": {
  "colab": {
   "name": "TicTacToe.ipynb",
   "provenance": []
  },
  "kernelspec": {
   "display_name": "Python 3",
   "language": "python",
   "name": "python3"
  },
  "language_info": {
   "codemirror_mode": {
    "name": "ipython",
    "version": 3
   },
   "file_extension": ".py",
   "mimetype": "text/x-python",
   "name": "python",
   "nbconvert_exporter": "python",
   "pygments_lexer": "ipython3",
   "version": "3.8.3"
  }
 },
 "nbformat": 4,
 "nbformat_minor": 1
}
